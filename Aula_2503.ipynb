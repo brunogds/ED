{
  "nbformat": 4,
  "nbformat_minor": 0,
  "metadata": {
    "colab": {
      "name": "Aula_2503.ipynb",
      "provenance": [],
      "collapsed_sections": [],
      "include_colab_link": true
    },
    "kernelspec": {
      "name": "python3",
      "display_name": "Python 3"
    },
    "language_info": {
      "name": "python"
    }
  },
  "cells": [
    {
      "cell_type": "markdown",
      "metadata": {
        "id": "view-in-github",
        "colab_type": "text"
      },
      "source": [
        "<a href=\"https://colab.research.google.com/github/brunogds/ED/blob/master/Aula_2503.ipynb\" target=\"_parent\"><img src=\"https://colab.research.google.com/assets/colab-badge.svg\" alt=\"Open In Colab\"/></a>"
      ]
    },
    {
      "cell_type": "markdown",
      "metadata": {
        "id": "jPWT1woj1JD8"
      },
      "source": [
        "# **Manipulando Matrizes**"
      ]
    },
    {
      "cell_type": "code",
      "metadata": {
        "id": "PB6HDcVHfK_3",
        "colab": {
          "base_uri": "https://localhost:8080/"
        },
        "outputId": "e8721864-1f1e-4804-dbc4-d0cbc6b1a1b0"
      },
      "source": [
        "# o resultado não é o esperado\n",
        "A = [[1,2,3], [4,5,6], [7,8,9]] \n",
        "B = [[1,-1,0], [0,1,2], [1,1,1]]\n",
        "\n",
        "# não funciona como o desejado\n",
        "# não soma as matrizes, concatena!\n",
        "C = A + B \n",
        "\n",
        "print(C)"
      ],
      "execution_count": null,
      "outputs": [
        {
          "output_type": "stream",
          "name": "stdout",
          "text": [
            "[[1, 2, 3], [4, 5, 6], [7, 8, 9], [1, -1, 0], [0, 1, 2], [1, 1, 1]]\n"
          ]
        }
      ]
    },
    {
      "cell_type": "markdown",
      "metadata": {
        "id": "mfeSohwKzbVf"
      },
      "source": [
        "# **A Biblioteca NumPy**"
      ]
    },
    {
      "cell_type": "markdown",
      "metadata": {
        "id": "sRDKmY-xzerv"
      },
      "source": [
        "O NumPy é uma biblioteca da linguagem Python com funções que permitem trabalhar com vetores e matrizes de forma simplificada. Provê diversas funções e operações sofisticadas. A biblioteca é implementada em linguagem C, o que dá uma grande velocidade às operações realizadas."
      ]
    },
    {
      "cell_type": "code",
      "metadata": {
        "id": "bdaHLMe2-w9V",
        "colab": {
          "base_uri": "https://localhost:8080/"
        },
        "outputId": "fad23539-0555-4d3a-dd50-06d4e81fe17f"
      },
      "source": [
        "# importando a biblioteca e dando um apelido (np)\n",
        "import numpy as np \n",
        "\n",
        "A = np.array([[1,2,3], [4,5,6], [7,8,9]])\n",
        "B = np.array([[1,-1,0], [0,1,2], [1,1,1]])\n",
        "\n",
        "C = A + B \n",
        "\n",
        "print(\"O resultado é:\")\n",
        "print(C)"
      ],
      "execution_count": null,
      "outputs": [
        {
          "output_type": "stream",
          "name": "stdout",
          "text": [
            "O resultado é:\n",
            "[[ 2  1  3]\n",
            " [ 4  6  8]\n",
            " [ 8  9 10]]\n"
          ]
        }
      ]
    },
    {
      "cell_type": "code",
      "metadata": {
        "id": "Jgonhtd-zyUB",
        "colab": {
          "base_uri": "https://localhost:8080/"
        },
        "outputId": "f90a72d7-31db-429c-c170-a7e88e1c3e0f"
      },
      "source": [
        "# resolvendo sistemas lineares\n",
        "#              x  y  z   x  y  z   x  y  z\n",
        "A = np.array([[1, 1, 1],[1, 1, 2],[2, 3, 5]])\n",
        "B = np.array([1000, 2000, 2500])\n",
        "\n",
        "# Resolver o sistema linear? AX = B (equação matricial)\n",
        "# X = [x, y, z]\n",
        "X = np.linalg.solve(A,B)  \n",
        "\n",
        "print(\"A solução é:\", X, \"FIM\")"
      ],
      "execution_count": null,
      "outputs": [
        {
          "output_type": "stream",
          "name": "stdout",
          "text": [
            "A solução é: [ 2500. -2500.  1000.] FIM\n"
          ]
        }
      ]
    },
    {
      "cell_type": "code",
      "source": [
        "A = np.array([[1, 1, 1],[1, 1, 2],[2, 3, 5]])\n",
        "B = np.array([1000, 2000, 2500])\n",
        "\n",
        "X = np.linalg.solve(A,B)  \n",
        "\n",
        "print(\"A solução é:\", X, \"FIM\")"
      ],
      "metadata": {
        "colab": {
          "base_uri": "https://localhost:8080/"
        },
        "id": "4O3RiqKm6z0G",
        "outputId": "b3d13169-0022-46c8-8e3c-add91dba7761"
      },
      "execution_count": null,
      "outputs": [
        {
          "output_type": "stream",
          "name": "stdout",
          "text": [
            "A solução é: [ 2500. -2500.  1000.] FIM\n"
          ]
        }
      ]
    },
    {
      "cell_type": "code",
      "metadata": {
        "id": "UYQACcLVz4XF",
        "colab": {
          "base_uri": "https://localhost:8080/"
        },
        "outputId": "5cf9028b-caa1-4f67-8a23-1fdf5cf4c515"
      },
      "source": [
        "A = np.array([[1, 1, 1],[1, 1, 2],[2, 3, 5]])\n",
        "\n",
        "v = np.linalg.det(A)\n",
        "print(v)"
      ],
      "execution_count": null,
      "outputs": [
        {
          "output_type": "stream",
          "name": "stdout",
          "text": [
            "-1.0\n"
          ]
        }
      ]
    },
    {
      "cell_type": "code",
      "metadata": {
        "id": "y_Tg-nWMz_Ds",
        "colab": {
          "base_uri": "https://localhost:8080/"
        },
        "outputId": "935341f9-b1d2-46ed-c827-2741e0b22d36"
      },
      "source": [
        "A = np.array([[1, 1, 1],[1, 1, 2],[2, 3, 5]])\n",
        "\n",
        "transpostaA = np.transpose(A)\n",
        "\n",
        "print(\"Matriz A:\")\n",
        "print(A)\n",
        "\n",
        "print(\"Transposta de A:\")\n",
        "print(transpostaA)"
      ],
      "execution_count": null,
      "outputs": [
        {
          "output_type": "stream",
          "name": "stdout",
          "text": [
            "Matriz A:\n",
            "[[1 1 1]\n",
            " [1 1 2]\n",
            " [2 3 5]]\n",
            "Transposta de A:\n",
            "[[1 1 2]\n",
            " [1 1 3]\n",
            " [1 2 5]]\n"
          ]
        }
      ]
    },
    {
      "cell_type": "code",
      "metadata": {
        "id": "XVOt54Af0Cex",
        "colab": {
          "base_uri": "https://localhost:8080/"
        },
        "outputId": "13a8d911-9398-4512-c9d1-89b3ab56d356"
      },
      "source": [
        "A = np.array([[1/2,2/3,0.75], [4,5,6], [7,8,9]])\n",
        "B = np.array([[1,-1,0], [0,1,2], [1,1,1]])\n",
        "\n",
        "# cuidado!\n",
        "C = A * B\n",
        "print(\"Não é multiplicação matricial, é multiplicação elemento a elemento:\")\n",
        "print(C)\n",
        "\n",
        "# multiplicação matricial\n",
        "print(\"É multiplicação matricial:\")\n",
        "C = np.matmul(A,B)\n",
        "print(C)"
      ],
      "execution_count": null,
      "outputs": [
        {
          "output_type": "stream",
          "name": "stdout",
          "text": [
            "Não é multiplicação matricial, é multiplicação elemento a elemento:\n",
            "[[ 0.5        -0.66666667  0.        ]\n",
            " [ 0.          5.         12.        ]\n",
            " [ 7.          8.          9.        ]]\n",
            "É multiplicação matricial:\n",
            "[[ 1.25        0.91666667  2.08333333]\n",
            " [10.          7.         16.        ]\n",
            " [16.         10.         25.        ]]\n"
          ]
        }
      ]
    },
    {
      "cell_type": "markdown",
      "metadata": {
        "id": "bJoNnhFF0ZrV"
      },
      "source": [
        "# **Comando Repetitivo: for**"
      ]
    },
    {
      "cell_type": "code",
      "metadata": {
        "id": "pAQHeLRv0Y9Q",
        "colab": {
          "base_uri": "https://localhost:8080/"
        },
        "outputId": "99f9c1e2-30e1-4375-92da-6513e712a344"
      },
      "source": [
        "print(1)\n",
        "print(2)\n",
        "print(3)\n",
        "print(4)\n",
        "print(5)\n",
        "print(6)\n",
        "print(7)\n",
        "print(8)\n",
        "print(9)\n",
        "print(10)\n",
        "print(11)\n",
        "# e se eu precisar imprimir até 1000 ?\n",
        "# 1000 linhas ??? Teria que digitar tudo?\n",
        "# como melhorar?"
      ],
      "execution_count": null,
      "outputs": [
        {
          "output_type": "stream",
          "name": "stdout",
          "text": [
            "1\n",
            "2\n",
            "3\n",
            "4\n",
            "5\n",
            "6\n",
            "7\n",
            "8\n",
            "9\n",
            "10\n",
            "11\n"
          ]
        }
      ]
    },
    {
      "cell_type": "code",
      "metadata": {
        "id": "PJbcWYi40hUR",
        "colab": {
          "base_uri": "https://localhost:8080/"
        },
        "outputId": "17af3a6f-6584-414d-d1a7-2714009c2381"
      },
      "source": [
        "# comando repetitivo: for\n",
        "# i é variável que controla o for (início e fim)\n",
        "fim = int(input(\"Qual o limite do for? \"))\n",
        "for i in range(1,fim+1):  # para o i variando de =1 até <10 (1, 2, 3, 4, 5, 6, 7, 8, 9), repete 9 vezes\n",
        "  print(i)   # é o comando que será repetido  (cuidado com a identação, espaço no começo)\n",
        "print(\"fim\")\n"
      ],
      "execution_count": null,
      "outputs": [
        {
          "output_type": "stream",
          "name": "stdout",
          "text": [
            "Qual o limite do for? 5\n",
            "1\n",
            "2\n",
            "3\n",
            "4\n",
            "5\n",
            "fim\n"
          ]
        }
      ]
    },
    {
      "cell_type": "code",
      "source": [
        "for i in range(1,12):\n",
        "  print(i)\n",
        "print(\"FIM\")"
      ],
      "metadata": {
        "colab": {
          "base_uri": "https://localhost:8080/"
        },
        "id": "57MeQN6N-xZ4",
        "outputId": "9ee1d263-4aa0-42d3-c93c-e423cdbf3d88"
      },
      "execution_count": null,
      "outputs": [
        {
          "output_type": "stream",
          "name": "stdout",
          "text": [
            "1\n",
            "2\n",
            "3\n",
            "4\n",
            "5\n",
            "6\n",
            "7\n",
            "8\n",
            "9\n",
            "10\n",
            "11\n",
            "FIM\n"
          ]
        }
      ]
    },
    {
      "cell_type": "markdown",
      "metadata": {
        "id": "lEN0AOx-1WTa"
      },
      "source": [
        "# **Exercício 1.1.11 da Lista**"
      ]
    },
    {
      "cell_type": "code",
      "metadata": {
        "id": "j5_y7YzmwIBn",
        "colab": {
          "base_uri": "https://localhost:8080/"
        },
        "outputId": "d9f3adb0-3461-48c8-de71-e2d13352f209"
      },
      "source": [
        "import numpy as np\n",
        "\n",
        "# definir a matriz A\n",
        "A = np.array([[1, 1/2], [0, 1/3]])\n",
        "\n",
        "# calcular A¹, A², A³ ...\n",
        "A1 = A                      # inicial\n",
        "A2 = np.matmul(A1, A)       # A² = A¹.A   \n",
        "A3 = np.matmul(A2, A)       # A³ = A².A\n",
        "A4 = np.matmul(A3, A)       # A⁴ = A³.A \n",
        "A5 = np.matmul(A4, A)       # A⁵ = A⁴.A \n",
        "A6 = np.matmul(A5, A)       # A⁶ = A⁵.A  \n",
        "print(A6)"
      ],
      "execution_count": null,
      "outputs": [
        {
          "output_type": "stream",
          "name": "stdout",
          "text": [
            "[[1.         0.74897119]\n",
            " [0.         0.00137174]]\n"
          ]
        }
      ]
    },
    {
      "cell_type": "code",
      "metadata": {
        "id": "QsKkXxpD3PxV",
        "colab": {
          "base_uri": "https://localhost:8080/"
        },
        "outputId": "7df0fff0-9c50-49e5-edaa-f57f89b0762a"
      },
      "source": [
        "import numpy as np\n",
        "\n",
        "# definir a matriz A\n",
        "A = np.array([[1, 1/2], [0, 1/3]])\n",
        "\n",
        "# conheço A¹\n",
        "Ak = A       # inicial k = 1 \n",
        "\n",
        "# calcular A², A³ ..., A⁹ \n",
        "# k é a variável que controla a repetição\n",
        "for k in range(2, 5):\n",
        "  # novo Ak = Ak antigo vezes A\n",
        "  #    A^k = A^(k-1) * A\n",
        "  #    A^(k-1) é a potência anterior \n",
        "  #    A^k é a nova potência \n",
        "  # primeira vez no for k = 2   Ak = Ak * A    A² = A¹. A\n",
        "  Ak = np.matmul(Ak, A)   \n",
        "  # \\n pula linha\n",
        "  # k tem que ser fora das aspas\n",
        "  print(\"\\n\",k,\"a. Potência: \")\n",
        "  print(Ak)                   "
      ],
      "execution_count": null,
      "outputs": [
        {
          "output_type": "stream",
          "name": "stdout",
          "text": [
            "\n",
            " 2 a. Potência: \n",
            "[[1.         0.66666667]\n",
            " [0.         0.11111111]]\n",
            "\n",
            " 3 a. Potência: \n",
            "[[1.         0.72222222]\n",
            " [0.         0.03703704]]\n",
            "\n",
            " 4 a. Potência: \n",
            "[[1.         0.74074074]\n",
            " [0.         0.01234568]]\n"
          ]
        }
      ]
    },
    {
      "cell_type": "code",
      "source": [
        "import numpy as np\n",
        "\n",
        "A = np.array([[1, 1/2], [0, 1/3]])\n",
        "\n",
        "Ak = A       \n",
        "\n",
        "for k in range(2, 5):\n",
        "  Ak = np.matmul(Ak, A)   \n",
        "  print(\"\\n\",k,\"a. Potência: \")\n",
        "  print(Ak)  "
      ],
      "metadata": {
        "colab": {
          "base_uri": "https://localhost:8080/"
        },
        "id": "ZPOhHVDGE76z",
        "outputId": "26d1396f-aa33-4df4-b600-4679307d4c78"
      },
      "execution_count": null,
      "outputs": [
        {
          "output_type": "stream",
          "name": "stdout",
          "text": [
            "\n",
            " 2 a. Potência: \n",
            "[[1.         0.66666667]\n",
            " [0.         0.11111111]]\n",
            "\n",
            " 3 a. Potência: \n",
            "[[1.         0.72222222]\n",
            " [0.         0.03703704]]\n",
            "\n",
            " 4 a. Potência: \n",
            "[[1.         0.74074074]\n",
            " [0.         0.01234568]]\n"
          ]
        }
      ]
    },
    {
      "cell_type": "code",
      "metadata": {
        "id": "YYmctcJv-AqJ",
        "colab": {
          "base_uri": "https://localhost:8080/"
        },
        "outputId": "7d08693d-1a8d-42d6-98c1-fa66f595317d"
      },
      "source": [
        "import numpy as np\n",
        "\n",
        "# definir a matriz A\n",
        "A = np.array([[1, 1/2], [0, 1/3]])\n",
        "\n",
        "# conheço A¹\n",
        "matriz = A       # inicial k = 1 \n",
        "\n",
        "# calcular A², A³ ..., A⁹ \n",
        "# k é a variável que controla a repetição\n",
        "p = int(input(\"Qual potência? \"))\n",
        "\n",
        "for k in range(2, p+1):\n",
        "  matriz = np.matmul(matriz, A)   # matriz = matriz.A\n",
        "  print(\"\\n\",k,\"a. Potência: \")\n",
        "  print(matriz)  "
      ],
      "execution_count": null,
      "outputs": [
        {
          "output_type": "stream",
          "name": "stdout",
          "text": [
            "Qual potência? 7\n",
            "\n",
            " 2 a. Potência: \n",
            "[[1.         0.66666667]\n",
            " [0.         0.11111111]]\n",
            "\n",
            " 3 a. Potência: \n",
            "[[1.         0.72222222]\n",
            " [0.         0.03703704]]\n",
            "\n",
            " 4 a. Potência: \n",
            "[[1.         0.74074074]\n",
            " [0.         0.01234568]]\n",
            "\n",
            " 5 a. Potência: \n",
            "[[1.         0.74691358]\n",
            " [0.         0.00411523]]\n",
            "\n",
            " 6 a. Potência: \n",
            "[[1.         0.74897119]\n",
            " [0.         0.00137174]]\n",
            "\n",
            " 7 a. Potência: \n",
            "[[1.00000000e+00 7.49657064e-01]\n",
            " [0.00000000e+00 4.57247371e-04]]\n"
          ]
        }
      ]
    },
    {
      "cell_type": "code",
      "metadata": {
        "id": "q6_LVUcP_sVX",
        "colab": {
          "base_uri": "https://localhost:8080/"
        },
        "outputId": "267e051c-8cb8-4460-ef89-4af9d75bf8bd"
      },
      "source": [
        "import numpy as np\n",
        "\n",
        "A = np.array([[0,0,1], [1,0,1], [0,1,0]])\n",
        "B = np.array([[1,0,0,0], [0,1,0,0], [0,0,1,0], [0,0,0,1]])\n",
        "\n",
        "ordem = len(A)\n",
        "\n",
        "print(ordem, \"\\n\")\n",
        "\n",
        "I = np.eye(ordem)\n",
        "\n",
        "print(I)\n",
        "\n",
        "# print(\"\\n\")\n",
        "\n",
        "# print(\"B é diferente de I ?\")\n",
        "# print(A != I)\n",
        "# print(\"\\n\")\n",
        "# print(\"Algum diferente? \", (B != I).any())  # algum elemento de B é diferente de I ?\n",
        "\n",
        "# print(\"\\n\")\n",
        "\n",
        "# print(\"B é igual a I ? \")\n",
        "# print(B == I)\n",
        "# print(\"\\n\")\n",
        "# print(\"Algum igual? \", (B == I).all())  # algum elemento de B é igual de I ?"
      ],
      "execution_count": null,
      "outputs": [
        {
          "output_type": "stream",
          "name": "stdout",
          "text": [
            "3 \n",
            "\n",
            "[[1. 0. 0.]\n",
            " [0. 1. 0.]\n",
            " [0. 0. 1.]]\n"
          ]
        }
      ]
    },
    {
      "cell_type": "code",
      "source": [
        "import numpy as np\n",
        "\n",
        "A = np.array([[0,0,1,1], [1,0,0,1], [0,1,0,1], [1,1,1,1]])\n",
        "B = np.array([[1,0,0,0], [0,1,0,0], [0,0,1,0], [0,0,0,1]])\n",
        "\n",
        "ordem = len(A)\n",
        "I = np.eye(ordem)\n",
        "\n",
        "print(\"B é diferente de I ?\")\n",
        "print(B != I)\n",
        "print(\"\\n\")\n",
        "print(\"Algum diferente? \", (B != I).any())  # algum elemento de B é diferente de I ?\n"
      ],
      "metadata": {
        "colab": {
          "base_uri": "https://localhost:8080/"
        },
        "id": "vdAMmHKFHdCo",
        "outputId": "02a92c06-3aa6-43ef-cb42-338bb3f73c71"
      },
      "execution_count": null,
      "outputs": [
        {
          "output_type": "stream",
          "name": "stdout",
          "text": [
            "B é diferente de I ?\n",
            "[[False False False False]\n",
            " [False False False False]\n",
            " [False False False False]\n",
            " [False False False False]]\n",
            "\n",
            "\n",
            "Algum diferente?  False\n"
          ]
        }
      ]
    },
    {
      "cell_type": "code",
      "metadata": {
        "id": "hlGWjmfpFdnV",
        "colab": {
          "base_uri": "https://localhost:8080/"
        },
        "outputId": "754bccb9-36ff-4851-d2c1-3e46aa893f39"
      },
      "source": [
        "# i controla o for\n",
        "# i começa em 1\n",
        "# i vai (de 1 em 1) até < 7\n",
        "for i in range(1, 7):\n",
        "  print(i)"
      ],
      "execution_count": null,
      "outputs": [
        {
          "output_type": "stream",
          "name": "stdout",
          "text": [
            "1\n",
            "2\n",
            "3\n",
            "4\n",
            "5\n",
            "6\n"
          ]
        }
      ]
    },
    {
      "cell_type": "code",
      "metadata": {
        "id": "5rHPfR6tF5j7",
        "colab": {
          "base_uri": "https://localhost:8080/"
        },
        "outputId": "d26ee79c-ceb3-431e-eda0-4e7cf751799a"
      },
      "source": [
        "i = 1  # inicio \n",
        "while (i < 7):  # fim\n",
        "  print(i)\n",
        "  i = i + 1     # de 1 em 1"
      ],
      "execution_count": null,
      "outputs": [
        {
          "output_type": "stream",
          "name": "stdout",
          "text": [
            "1\n",
            "2\n",
            "3\n",
            "4\n",
            "5\n",
            "6\n"
          ]
        }
      ]
    },
    {
      "cell_type": "code",
      "metadata": {
        "id": "P1J4fwSaGg1A",
        "colab": {
          "base_uri": "https://localhost:8080/"
        },
        "outputId": "e71de14c-c2ca-493e-e62b-3a47de8be7ee"
      },
      "source": [
        "resposta = \"s\"  # inicio \n",
        "while resposta == \"s\":  # condição de parada ou condição para continuar\n",
        "  print(\"olá\")\n",
        "  resposta = input(\"Digite s ou n: \")   # atualiza resposta para nova repetição\n",
        "  "
      ],
      "execution_count": null,
      "outputs": [
        {
          "name": "stdout",
          "output_type": "stream",
          "text": [
            "olá\n",
            "Digite s ou n: s\n",
            "olá\n",
            "Digite s ou n: s\n",
            "olá\n",
            "Digite s ou n: s\n",
            "olá\n",
            "Digite s ou n: s\n",
            "olá\n",
            "Digite s ou n: n\n"
          ]
        }
      ]
    },
    {
      "cell_type": "markdown",
      "metadata": {
        "id": "bmCmurJ-_qKk"
      },
      "source": [
        "# **Exercício 1.1.12 da Lista**"
      ]
    },
    {
      "cell_type": "code",
      "metadata": {
        "id": "U7HIZNsX9MmV"
      },
      "source": [
        "import numpy as np\n",
        "\n",
        "A = np.array([[0,0,1],[1,0,0],[0,1,0]])  # matriz do enunciado\n",
        "\n",
        "tamanho = len(A)      # obtém a dimensão da matriz A (número de linhas)\n",
        " \n",
        "I = np.eye(tamanho)   # cria uma matriz identidade com mesma dimensão da matriz A\n",
        "\n",
        "# pensa em Ak como uma \"caixinha\" que você guarda coisas \n",
        "# e que vai mudando o que coloca dentro dela a cada repetição do while\n",
        "Ak = A    # Ak inicia com A¹ \n",
        "k = 1     # apenas para controlar o índice da atual potência\n",
        "\n",
        "while ((Ak != I).any()):  # enquanto for verdade que Ak não é igual à matriz I, repita:\n",
        "  # o while repete os cálculos até que a condição se torne FALSA\n",
        "  Ak = np.matmul(Ak, A)   # Ak (novo conteúdo da \"caixinha\") = Ak (conteúdo atual) * A\n",
        "  k = k + 1               # próxima potência\n",
        "  print(\"\\n\",k,\"a. Potencia: \")   # \\n pula linha, só pra deixar bonitinho na tela\n",
        "  print(Ak) \n",
        " "
      ],
      "execution_count": null,
      "outputs": []
    }
  ]
}