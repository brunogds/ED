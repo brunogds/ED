{
  "cells": [
    {
      "cell_type": "markdown",
      "metadata": {
        "id": "view-in-github",
        "colab_type": "text"
      },
      "source": [
        "<a href=\"https://colab.research.google.com/github/brunogds/ED/blob/master/Simulado18.03.ipynb\" target=\"_parent\"><img src=\"https://colab.research.google.com/assets/colab-badge.svg\" alt=\"Open In Colab\"/></a>"
      ]
    },
    {
      "cell_type": "code",
      "execution_count": null,
      "metadata": {
        "id": "HTrQxr-fx5h0",
        "outputId": "b87176e0-3729-4e31-8cea-e57c82656d67",
        "colab": {
          "base_uri": "https://localhost:8080/"
        }
      },
      "outputs": [
        {
          "output_type": "stream",
          "name": "stdout",
          "text": [
            "Questão 1 \n",
            "\n",
            "\n",
            "a) InvA =\n",
            " [[ 1.4  0.4 -0.6]\n",
            " [ 0.4 -0.6  0.4]\n",
            " [-0.8  0.2  0.2]]\n",
            "\n",
            "InvA =\n",
            "7/5   2/5   -3/5   \n",
            "2/5   -3/5   2/5   \n",
            "-4/5   1/5   1/5   \n",
            "\n",
            "b) det(A) = -5\n"
          ]
        }
      ],
      "source": [
        "import numpy as np\n",
        "import fractions\n",
        "\n",
        "print(\"Questão 1 \\n\")\n",
        "A = np.array([[1,1,1],[2,1,4],[2,3,5]])\n",
        "\n",
        "determinante = np.linalg.det(A)\n",
        "if np.linalg.det(A) == 0:\n",
        "    print(\"\\na) A não tem inversa\")\n",
        "    print(\"\\nb) det(A) = 0\")\n",
        "else:\n",
        "    Inv = np.linalg.inv(A)\n",
        "    print(\"\\na) InvA =\\n\",Inv)\n",
        "    print()\n",
        "    print(\"InvA =\")\n",
        "    for linha in Inv:\n",
        "        for x in linha:\n",
        "            print(fractions.Fraction.from_float(x).limit_denominator(100), end=\"   \")\n",
        "        print()\n",
        "    print(\"\\nb) det(A) =\",fractions.Fraction.from_float(determinante).limit_denominator(100))"
      ]
    },
    {
      "cell_type": "code",
      "source": [
        ""
      ],
      "metadata": {
        "id": "G3yNGP8bN5tS"
      },
      "execution_count": null,
      "outputs": []
    },
    {
      "cell_type": "code",
      "execution_count": null,
      "metadata": {
        "id": "xyLElIw6x5h5",
        "outputId": "3ac608d9-ed6a-42a0-f83a-54cd58422c6c",
        "colab": {
          "base_uri": "https://localhost:8080/"
        }
      },
      "outputs": [
        {
          "output_type": "stream",
          "name": "stdout",
          "text": [
            "Questão 2 \n",
            "\n",
            "Solução única: [ 1. -1.  2.]\n"
          ]
        }
      ],
      "source": [
        "print(\"Questão 2 \\n\")\n",
        "A = np.array([[1,-2,3],[-1,3,0],[2,-5,5]])\n",
        "B = np.array([9, -4, 17])\n",
        "\n",
        "if np.linalg.det(A) != 0:\n",
        "    Inv = np.linalg.inv(A)\n",
        "    X = np.matmul(Inv,B)\n",
        "    print(\"Solução única:\", X)"
      ]
    },
    {
      "cell_type": "code",
      "execution_count": null,
      "metadata": {
        "id": "p8W4GdrCx5h6"
      },
      "outputs": [],
      "source": [
        ""
      ]
    }
  ],
  "metadata": {
    "kernelspec": {
      "display_name": "Python 3",
      "language": "python",
      "name": "python3"
    },
    "language_info": {
      "codemirror_mode": {
        "name": "ipython",
        "version": 3
      },
      "file_extension": ".py",
      "mimetype": "text/x-python",
      "name": "python",
      "nbconvert_exporter": "python",
      "pygments_lexer": "ipython3",
      "version": "3.7.6"
    },
    "colab": {
      "name": "Simulado.ipynb",
      "provenance": [],
      "include_colab_link": true
    }
  },
  "nbformat": 4,
  "nbformat_minor": 0
}