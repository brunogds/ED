{
  "nbformat": 4,
  "nbformat_minor": 0,
  "metadata": {
    "colab": {
      "name": "Untitled1.ipynb",
      "provenance": [],
      "collapsed_sections": [],
      "authorship_tag": "ABX9TyNHyaQy5L7vj29s15XsscjJ",
      "include_colab_link": true
    },
    "kernelspec": {
      "name": "python3",
      "display_name": "Python 3"
    },
    "language_info": {
      "name": "python"
    }
  },
  "cells": [
    {
      "cell_type": "markdown",
      "metadata": {
        "id": "view-in-github",
        "colab_type": "text"
      },
      "source": [
        "<a href=\"https://colab.research.google.com/github/brunogds/ED/blob/master/Ex%201.1.11/12(Bruno).ipynb\" target=\"_parent\"><img src=\"https://colab.research.google.com/assets/colab-badge.svg\" alt=\"Open In Colab\"/></a>"
      ]
    },
    {
      "cell_type": "markdown",
      "source": [
        "Exercício 1.1.11"
      ],
      "metadata": {
        "id": "ggj_FCEPDvtR"
      }
    },
    {
      "cell_type": "code",
      "source": [
        "import numpy as np\n",
        "\n",
        "A = np.array([[1, 1/2], [0, 1/3]])\n",
        "Aresult = A\n",
        "\n",
        "p = int (input('Quantas potências deseja calcular?'))\n",
        "\n",
        "k = 1\n",
        "while k <= p:\n",
        "  print(k,'ª potência:\\n')\n",
        "  print(Aresult)\n",
        "  Aresult = np.matmul(A, Aresult)\n",
        "  k += 1\n",
        "  print('=-' * 15 ,'\\n')\n"
      ],
      "metadata": {
        "colab": {
          "base_uri": "https://localhost:8080/"
        },
        "id": "ap9f7zb2D2Ot",
        "outputId": "a33abb8c-23af-4bf0-8e9c-5bb827905cdf"
      },
      "execution_count": 8,
      "outputs": [
        {
          "output_type": "stream",
          "name": "stdout",
          "text": [
            "Quantas potências deseja calcular?3\n",
            "1 ª potência:\n",
            "\n",
            "[[1.         0.5       ]\n",
            " [0.         0.33333333]]\n",
            "=-=-=-=-=-=-=-=-=-=-=-=-=-=-=- \n",
            "\n",
            "2 ª potência:\n",
            "\n",
            "[[1.         0.66666667]\n",
            " [0.         0.11111111]]\n",
            "=-=-=-=-=-=-=-=-=-=-=-=-=-=-=- \n",
            "\n",
            "3 ª potência:\n",
            "\n",
            "[[1.         0.72222222]\n",
            " [0.         0.03703704]]\n",
            "=-=-=-=-=-=-=-=-=-=-=-=-=-=-=- \n",
            "\n"
          ]
        }
      ]
    },
    {
      "cell_type": "markdown",
      "source": [
        "Exercicio 1.1.12"
      ],
      "metadata": {
        "id": "JXiyLXT1KzRO"
      }
    },
    {
      "cell_type": "code",
      "source": [
        "import numpy as np\n",
        "\n",
        "Aa = np.array([[0,0,1], [1,0,0], [0,1,0]])\n",
        "A = Aa\n",
        "Ab = np.array([[0,1,0,0], [-1,0,0,0], [0,0,0,1], [0,0,1,0]])\n",
        "B = Ab\n",
        "\n",
        "Ia = np.eye(len(Aa))\n",
        "Ib = np.eye(len(Ab))\n",
        "\n",
        "#Resulução item A e B\n",
        "k = 1\n",
        "while (Ab != Ib).any():\n",
        "  print(k, 'ª potencia\\n', Ab,'\\n')\n",
        "  Ab = np.matmul(Ab, B)\n",
        "  k+=1\n",
        "else:\n",
        "  print('\\nA^k é igual a I na', k,'ª potência', Ab)\n",
        "\n"
      ],
      "metadata": {
        "colab": {
          "base_uri": "https://localhost:8080/"
        },
        "id": "hqLp2gqgK2c6",
        "outputId": "11cc3b34-9af2-4d1d-c36c-58e4a2c5a3eb"
      },
      "execution_count": 41,
      "outputs": [
        {
          "output_type": "stream",
          "name": "stdout",
          "text": [
            "1 ª potencia\n",
            " [[ 0  1  0  0]\n",
            " [-1  0  0  0]\n",
            " [ 0  0  0  1]\n",
            " [ 0  0  1  0]]\n",
            "2 ª potencia\n",
            " [[-1  0  0  0]\n",
            " [ 0 -1  0  0]\n",
            " [ 0  0  1  0]\n",
            " [ 0  0  0  1]]\n",
            "3 ª potencia\n",
            " [[ 0 -1  0  0]\n",
            " [ 1  0  0  0]\n",
            " [ 0  0  0  1]\n",
            " [ 0  0  1  0]]\n",
            "\n",
            "A^k é igual a I na 4 ª potência [[1 0 0 0]\n",
            " [0 1 0 0]\n",
            " [0 0 1 0]\n",
            " [0 0 0 1]]\n"
          ]
        }
      ]
    },
    {
      "cell_type": "code",
      "source": [
        "#Resolução item C\n",
        "Ac = np.array([[0,1,0,0], [0,0,1,0], [0,0,0,1],[0,0,0,0]])\n",
        "C= Ac\n",
        "#Nula = np.array([[0,0,0,0], [0,0,0,0], [0,0,0,0], [0,0,0,0]])\n",
        "Nula = np.zeros((len(Ac), len(Ac)))\n",
        "k = 1\n",
        "while (Ac != Nula).any():\n",
        "  print(k,'ª potencia \\n', Ac, '\\n')\n",
        "  Ac = np.matmul(Ac, C)\n",
        "  k+=1\n",
        "else:\n",
        "  print('A elevado a k é igual a 0 na', k,'ª potência\\n', Ac)"
      ],
      "metadata": {
        "colab": {
          "base_uri": "https://localhost:8080/"
        },
        "id": "jiS-qP41QcF8",
        "outputId": "f24a7737-1a20-4134-8914-ceb8b7c377e7"
      },
      "execution_count": 45,
      "outputs": [
        {
          "output_type": "stream",
          "name": "stdout",
          "text": [
            "1 ª potencia \n",
            " [[0 1 0 0]\n",
            " [0 0 1 0]\n",
            " [0 0 0 1]\n",
            " [0 0 0 0]] \n",
            "\n",
            "2 ª potencia \n",
            " [[0 0 1 0]\n",
            " [0 0 0 1]\n",
            " [0 0 0 0]\n",
            " [0 0 0 0]] \n",
            "\n",
            "3 ª potencia \n",
            " [[0 0 0 1]\n",
            " [0 0 0 0]\n",
            " [0 0 0 0]\n",
            " [0 0 0 0]] \n",
            "\n",
            "A elevado a k é igual a 0 na 4 ª potência\n",
            " [[0 0 0 0]\n",
            " [0 0 0 0]\n",
            " [0 0 0 0]\n",
            " [0 0 0 0]]\n"
          ]
        }
      ]
    }
  ]
}