{
  "nbformat": 4,
  "nbformat_minor": 0,
  "metadata": {
    "colab": {
      "name": "CalcDetBruno.ipynb",
      "provenance": [],
      "collapsed_sections": [],
      "include_colab_link": true
    },
    "kernelspec": {
      "name": "python3",
      "display_name": "Python 3"
    },
    "language_info": {
      "name": "python"
    }
  },
  "cells": [
    {
      "cell_type": "markdown",
      "metadata": {
        "id": "view-in-github",
        "colab_type": "text"
      },
      "source": [
        "<a href=\"https://colab.research.google.com/github/brunogds/ED/blob/master/CalcDetBruno.ipynb\" target=\"_parent\"><img src=\"https://colab.research.google.com/assets/colab-badge.svg\" alt=\"Open In Colab\"/></a>"
      ]
    },
    {
      "cell_type": "code",
      "execution_count": null,
      "metadata": {
        "colab": {
          "base_uri": "https://localhost:8080/"
        },
        "id": "vocy2F8MO8V3",
        "outputId": "217072d2-1fd3-4611-f59a-e485926e7951"
      },
      "outputs": [
        {
          "output_type": "stream",
          "name": "stdout",
          "text": [
            "Digite o valor para [1,1]: 1\n",
            "-=-=-=-=-=-=-=-=-=-=-=-=-=-=-=\n",
            "Digite o valor para [1,2]: 1\n",
            "-=-=-=-=-=-=-=-=-=-=-=-=-=-=-=\n",
            "Digite o valor para [1,3]: 1\n",
            "-=-=-=-=-=-=-=-=-=-=-=-=-=-=-=\n",
            "Digite o valor para [2,1]: 2\n",
            "-=-=-=-=-=-=-=-=-=-=-=-=-=-=-=\n",
            "Digite o valor para [2,2]: 1\n",
            "-=-=-=-=-=-=-=-=-=-=-=-=-=-=-=\n",
            "Digite o valor para [2,3]: 4\n",
            "-=-=-=-=-=-=-=-=-=-=-=-=-=-=-=\n",
            "Digite o valor para [3,1]: 2\n",
            "-=-=-=-=-=-=-=-=-=-=-=-=-=-=-=\n",
            "Digite o valor para [3,2]: 3\n",
            "-=-=-=-=-=-=-=-=-=-=-=-=-=-=-=\n",
            "Digite o valor para [3,3]: 5\n",
            "-=-=-=-=-=-=-=-=-=-=-=-=-=-=-=\n",
            "\n",
            " inv =\n",
            " [[ 1.4  0.4 -0.6]\n",
            " [ 0.4 -0.6  0.4]\n",
            " [-0.8  0.2  0.2]]\n",
            "\n",
            "7/5      2/5      -3/5      \n",
            "2/5      -3/5      2/5      \n",
            "-4/5      1/5      1/5      \n"
          ]
        }
      ],
      "source": [
        "import numpy as np\n",
        "import fractions as fr\n",
        "\n",
        "matriz = np.array([[0,0,0],[0,0,0],[0,0,0]])\n",
        "for l in range (0, 3):\n",
        "  for c in range (0, 3):\n",
        "    matriz[l][c] = int (input(f'Digite o valor para [{l+1},{c+1}]: '))\n",
        "    print('-=' * 151\n",
        "          )\n",
        "\n",
        "det = np.linalg.det(matriz)\n",
        "if det == 0:\n",
        "  print('\\n A não tem inversa')\n",
        "else:\n",
        "  inv = np.linalg.inv(matriz)\n",
        "  print('\\n inv =\\n', inv)\n",
        "  print()\n",
        "  for linha in inv:\n",
        "    for x in linha:\n",
        "      print(fr.Fraction.from_float(x).limit_denominator(100), end='      ')\n",
        "    print()\n",
        "\n",
        "    \n"
      ]
    }
  ]
}